{
 "cells": [
  {
   "cell_type": "code",
   "execution_count": 3,
   "metadata": {},
   "outputs": [],
   "source": [
    "from datetime import datetime\n",
    "import matplotlib.pyplot as plt\n",
    "import pandas as pd\n",
    "from pandas.plotting import register_matplotlib_converters\n",
    "register_matplotlib_converters()\n",
    "import MetaTrader5 as mt5\n",
    "from time import sleep\n",
    "import random"
   ]
  },
  {
   "cell_type": "code",
   "execution_count": 4,
   "metadata": {},
   "outputs": [
    {
     "name": "stdout",
     "output_type": "stream",
     "text": [
      "MetaTrader5 package author:  MetaQuotes Ltd.\n",
      "MetaTrader5 package version:  5.0.45\n",
      "(500, 4153, '22 Jan 2024')\n",
      "connected to account #51666596\n",
      "AccountInfo(login=51666596, trade_mode=0, leverage=30, limit_orders=200, margin_so_mode=0, trade_allowed=True, trade_expert=True, margin_mode=2, currency_digits=2, fifo_close=False, balance=25000.0, credit=0.0, profit=0.0, equity=25000.0, margin=0.0, margin_free=25000.0, margin_level=0.0, margin_so_call=100.0, margin_so_so=50.0, margin_initial=0.0, margin_maintenance=0.0, assets=0.0, liabilities=0.0, commission_blocked=0.0, name='Azarm Hamid', server='ICMarketsEU-Demo', currency='USD', company='IC Markets (EU) Ltd')\n",
      "Show account_info()._asdict():\n",
      "  login=51666596\n",
      "  trade_mode=0\n",
      "  leverage=30\n",
      "  limit_orders=200\n",
      "  margin_so_mode=0\n",
      "  trade_allowed=True\n",
      "  trade_expert=True\n",
      "  margin_mode=2\n",
      "  currency_digits=2\n",
      "  fifo_close=False\n",
      "  balance=25000.0\n",
      "  credit=0.0\n",
      "  profit=0.0\n",
      "  equity=25000.0\n",
      "  margin=0.0\n",
      "  margin_free=25000.0\n",
      "  margin_level=0.0\n",
      "  margin_so_call=100.0\n",
      "  margin_so_so=50.0\n",
      "  margin_initial=0.0\n",
      "  margin_maintenance=0.0\n",
      "  assets=0.0\n",
      "  liabilities=0.0\n",
      "  commission_blocked=0.0\n",
      "  name=Azarm Hamid\n",
      "  server=ICMarketsEU-Demo\n",
      "  currency=USD\n",
      "  company=IC Markets (EU) Ltd\n"
     ]
    }
   ],
   "source": [
    "import MetaTrader5 as mt5\n",
    "# display data on the MetaTrader 5 package\n",
    "print(\"MetaTrader5 package author: \",mt5.__author__)\n",
    "print(\"MetaTrader5 package version: \",mt5.__version__)\n",
    "\n",
    "# establish connection to the MetaTrader 5 terminal\n",
    "if not mt5.initialize():\n",
    "    print(\"initialize() failed, error code =\",mt5.last_error())\n",
    "    quit()\n",
    "\n",
    "print(mt5.version())\n",
    "\n",
    "account=51666596\n",
    "password=\"s!K48dU5!qgrOI\"\n",
    "server=\"ICMarketsEU-Demo\"\n",
    "\n",
    "authorized=mt5.login(account, server=server,password=password)  # the terminal database password is applied if connection data is set to be remembered\n",
    "if authorized:\n",
    "    print(\"connected to account #{}\".format(account))\n",
    "else:\n",
    "    print(\"failed to connect at account #{}, error code: {}\".format(account, mt5.last_error()))\n",
    "\n",
    "# now connect to another trading account specifying the password\n",
    "authorized=mt5.login(account, server=server,password=password)\n",
    "if authorized:\n",
    "    # display trading account data 'as is'\n",
    "    print(mt5.account_info())\n",
    "    # display trading account data in the form of a list\n",
    "    print(\"Show account_info()._asdict():\")\n",
    "    account_info_dict = mt5.account_info()._asdict()\n",
    "    for prop in account_info_dict:\n",
    "        print(\"  {}={}\".format(prop, account_info_dict[prop]))\n",
    "else:\n",
    "    print(\"failed to connect at account #{}, error code: {}\".format(account, mt5.last_error()))\n"
   ]
  },
  {
   "cell_type": "markdown",
   "metadata": {},
   "source": [
    "# define stop limit position maker funcs"
   ]
  },
  {
   "cell_type": "code",
   "execution_count": 5,
   "metadata": {},
   "outputs": [],
   "source": [
    "def buy(symbol,price,volume,sl):\n",
    "  #  point=mt5.symbol_info(symbol).point\n",
    "  #  price = mt5.symbol_info_tick(symbol).ask\n",
    "  #  sl = price - point*10*stop\n",
    "    request = {\n",
    "        \"action\": mt5.TRADE_ACTION_DEAL,\n",
    "        \"symbol\": symbol,\n",
    "        \"volume\": volume,\n",
    "        \"type\": mt5.ORDER_TYPE_BUY,\n",
    "        \"price\": price,\n",
    "        \"sl\": sl,\n",
    "    #  \"tp\": mt5.symbol_info_tick(symbol).ask+100*point,\n",
    "        \"deviation\": 10,\n",
    "        \"magic\": 234000,\n",
    "    #    \"comment\": \"python script\",\n",
    "        \"type_time\": mt5.ORDER_TIME_GTC,\n",
    "        \"type_filling\": mt5.ORDER_FILLING_IOC,\n",
    "    }\n",
    "\n",
    "    result = mt5.order_send(request)\n",
    "\n",
    "    return result"
   ]
  },
  {
   "cell_type": "code",
   "execution_count": 6,
   "metadata": {},
   "outputs": [],
   "source": [
    "def buy_stop(symbol,volume,stop,distance):\n",
    "    point = mt5.symbol_info(symbol).point\n",
    "    ask = mt5.symbol_info_tick(symbol).ask\n",
    "    price = ask + distance*point\n",
    "    sl = price - stop*point\n",
    "    request = {\n",
    "        \"action\": mt5.TRADE_ACTION_PENDING,\n",
    "        \"symbol\": symbol,\n",
    "        \"volume\": volume,\n",
    "        \"type\": mt5.ORDER_TYPE_BUY_STOP,\n",
    "        \"price\": price,\n",
    "        \"deviation\": 2,\n",
    "        \"sl\": sl,\n",
    "        \"type_time\": mt5.ORDER_TIME_GTC,\n",
    "        \"type_filling\": mt5.ORDER_FILLING_RETURN,\n",
    "    }\n",
    "\n",
    "    result = mt5.order_send(request)\n",
    "\n",
    "    return result"
   ]
  },
  {
   "cell_type": "code",
   "execution_count": 28,
   "metadata": {},
   "outputs": [
    {
     "data": {
      "text/plain": [
       "OrderSendResult(retcode=10009, deal=0, order=597506847, volume=5.1, price=0.0, bid=0.0, ask=0.0, comment='Request executed', request_id=3972263686, retcode_external=0, request=TradeRequest(action=5, magic=0, order=0, symbol='US30', volume=5.1, price=38937.31, stoplimit=0.0, sl=38937.21, tp=0.0, deviation=2, type=4, type_filling=2, type_time=0, expiration=0, comment='', position=0, position_by=0))"
      ]
     },
     "execution_count": 28,
     "metadata": {},
     "output_type": "execute_result"
    }
   ],
   "source": [
    "buy_stop('US30',5.1,10,150)"
   ]
  },
  {
   "cell_type": "code",
   "execution_count": 10,
   "metadata": {},
   "outputs": [],
   "source": [
    "def trail_sl_buy(symbol,ticket):\n",
    "    bid = mt5.symbol_info_tick(symbol).bid\n",
    "    request = {\n",
    "            \"action\": mt5.TRADE_ACTION_SLTP,\n",
    "            \"symbol\": symbol,\n",
    "            \"type\": mt5.ORDER_TYPE_BUY,\n",
    "            \"position\": ticket,\n",
    "            \"sl\": bid ,\n",
    "            \"deviation\": 2,\n",
    "            \"magic\": 234000,\n",
    "            \"type_time\": mt5.ORDER_TIME_GTC,\n",
    "            \"type_filling\": mt5.ORDER_FILLING_IOC,\n",
    "        }\n",
    "\n",
    "    result = mt5.order_send(request)\n",
    "\n",
    "    return result.comment"
   ]
  },
  {
   "cell_type": "code",
   "execution_count": 11,
   "metadata": {},
   "outputs": [],
   "source": [
    "def sell(symbol,volume,stop):\n",
    "    point=mt5.symbol_info(symbol).point\n",
    "    price = mt5.symbol_info_tick(symbol).ask\n",
    "    sl = price + point*10*stop\n",
    "    request = {\n",
    "        \"action\": mt5.TRADE_ACTION_DEAL,\n",
    "        \"symbol\": symbol,\n",
    "        \"volume\": volume,\n",
    "        \"type\": mt5.ORDER_TYPE_SELL,\n",
    "        \"price\": price,\n",
    "        \"sl\": sl,\n",
    "    #  \"tp\": mt5.symbol_info_tick(symbol).ask+100*point,\n",
    "        \"deviation\": 10,\n",
    "        \"magic\": 234000,\n",
    "    #    \"comment\": \"python script\",\n",
    "        \"type_time\": mt5.ORDER_TIME_GTC,\n",
    "        \"type_filling\": mt5.ORDER_FILLING_IOC,\n",
    "    }\n",
    "\n",
    "    result = mt5.order_send(request)\n",
    "\n",
    "    return result"
   ]
  },
  {
   "cell_type": "code",
   "execution_count": 12,
   "metadata": {},
   "outputs": [],
   "source": [
    "def sell_stop(symbol,volume,stop,distance):\n",
    "    point = mt5.symbol_info(symbol).point\n",
    "    bid = mt5.symbol_info_tick(symbol).bid\n",
    "    price = bid - distance*point\n",
    "    sl = price + stop*point\n",
    "    request = {\n",
    "        \"action\": mt5.TRADE_ACTION_PENDING,\n",
    "        \"symbol\": symbol,\n",
    "        \"volume\": volume,\n",
    "        \"type\": mt5.ORDER_TYPE_SELL_STOP,\n",
    "        \"price\": price,\n",
    "        \"deviation\": 2,\n",
    "        \"sl\": sl,\n",
    "        \"type_time\": mt5.ORDER_TIME_GTC,\n",
    "        \"type_filling\": mt5.ORDER_FILLING_RETURN,\n",
    "    }\n",
    "\n",
    "    result = mt5.order_send(request)\n",
    "\n",
    "    return result"
   ]
  },
  {
   "cell_type": "code",
   "execution_count": 26,
   "metadata": {},
   "outputs": [
    {
     "data": {
      "text/plain": [
       "OrderSendResult(retcode=10014, deal=0, order=0, volume=0.0, price=0.0, bid=0.0, ask=0.0, comment='Invalid volume', request_id=0, retcode_external=0, request=TradeRequest(action=5, magic=0, order=0, symbol='US30', volume=0.99, price=38913.31, stoplimit=0.0, sl=38913.21, tp=0.0, deviation=2, type=4, type_filling=2, type_time=0, expiration=0, comment='', position=0, position_by=0))"
      ]
     },
     "execution_count": 26,
     "metadata": {},
     "output_type": "execute_result"
    }
   ],
   "source": [
    "buy_stop('US30',0.99,10,200)"
   ]
  },
  {
   "cell_type": "code",
   "execution_count": 13,
   "metadata": {},
   "outputs": [],
   "source": [
    "def trail_sl_sell(symbol,ticket):\n",
    "    ask = mt5.symbol_info_tick(symbol).ask\n",
    "    request = {\n",
    "            \"action\": mt5.TRADE_ACTION_SLTP,\n",
    "            \"symbol\": symbol,\n",
    "            \"type\": mt5.ORDER_TYPE_BUY,\n",
    "            \"position\": ticket,\n",
    "            \"sl\": ask ,\n",
    "            \"deviation\": 2,\n",
    "            \"magic\": 234000,\n",
    "            \"type_time\": mt5.ORDER_TIME_GTC,\n",
    "            \"type_filling\": mt5.ORDER_FILLING_IOC,\n",
    "        }\n",
    "\n",
    "    result = mt5.order_send(request)\n",
    "\n",
    "    return result.comment"
   ]
  },
  {
   "cell_type": "code",
   "execution_count": 14,
   "metadata": {},
   "outputs": [],
   "source": [
    "def cancel_order(ticket):\n",
    "    request = {\n",
    "        \"action\": mt5.TRADE_ACTION_REMOVE,\n",
    "        \"order\": ticket,\n",
    "    }\n",
    "    order_result = mt5.order_send(request)\n",
    "\n",
    "\n",
    "    return order_result"
   ]
  },
  {
   "cell_type": "code",
   "execution_count": 186,
   "metadata": {},
   "outputs": [
    {
     "data": {
      "text/plain": [
       "'Request executed'"
      ]
     },
     "execution_count": 186,
     "metadata": {},
     "output_type": "execute_result"
    }
   ],
   "source": [
    "cancel_order(153380686)[7]"
   ]
  },
  {
   "cell_type": "code",
   "execution_count": null,
   "metadata": {},
   "outputs": [],
   "source": [
    "while True:\n",
    "    Buy = buy_stop('US30',volume=5.1,stop=10,distance=150)\n",
    "    Sell = sell_stop('US30',volume=5.1,stop=10,distance=150)\n",
    "\n",
    "    while not mt5.positions_get(symbol='US30'):\n",
    "        continue\n",
    "\n",
    "    while mt5.positions_total() == 1:\n",
    "        if (mt5.positions_total() == 1) and (mt5.positions_get(symbol='US30')[0][0] == Buy[2]): # open buy position\n",
    "            cancel_order(Sell[2])\n",
    "            trail_sl_buy('US30',Buy[2])\n",
    "\n",
    "        elif (mt5.positions_total() == 1) and (mt5.positions_get(symbol='US30')[0][0] == Sell[2]): # open sell position\n",
    "            cancel_order(Buy[2])\n",
    "            trail_sl_sell('US30',Sell[2])\n",
    "\n",
    "\n"
   ]
  },
  {
   "cell_type": "code",
   "execution_count": null,
   "metadata": {},
   "outputs": [],
   "source": [
    "symbol = 'EURUSD.i'\n",
    "order_types = (0,1)\n",
    "first_order = random.choice(order_types)\n",
    "pip_sl = 0.5\n",
    "order_history = []\n",
    "\n",
    "\n",
    "while True:\n",
    "    first_order = random.choice(order_types)\n",
    "    if first_order == 0:\n",
    "        order = sell(symbol,0.9,pip_sl)\n",
    "        sleep(1)\n",
    "        first_sl = order.request.sl\n",
    "        try:\n",
    "            while mt5.positions_total() > 0:\n",
    "                R = (entry_price - mt5.symbol_info_tick(symbol).ask) // (pip_sl*10*mt5.symbol_info(symbol).point)\n",
    "                if R >= 2:\n",
    "                    new_sl= first_sl - R*pip_sl*10*mt5.symbol_info(symbol).point\n",
    "                    if new_sl < mt5.positions_get()[0][11]:\n",
    "                        respond = trail_sl_sell(symbol,new_sl)\n",
    "                        print(respond,'---','R:',R-1)\n",
    "        except IndexError:\n",
    "            continue\n",
    "\n",
    "    elif first_order == 1:\n",
    "        order = buy(symbol,0.9,pip_sl)\n",
    "        sleep(1)\n",
    "        entry_price = order.request.price\n",
    "        first_sl = order.request.sl\n",
    "        try:\n",
    "            while mt5.positions_total() > 0:\n",
    "                R = (mt5.symbol_info_tick(symbol).bid - entry_price) // (pip_sl*10*mt5.symbol_info(symbol).point)\n",
    "                if R >= 2:\n",
    "\n",
    "                    new_sl= first_sl + R*pip_sl*10*mt5.symbol_info(symbol).point\n",
    "                    if new_sl > mt5.positions_get()[0][11]:\n",
    "                        respond = trail_sl_buy(symbol,new_sl)\n",
    "                        print(respond,'---','R:',R-1)\n",
    "        except IndexError:\n",
    "            continue"
   ]
  }
 ],
 "metadata": {
  "kernelspec": {
   "display_name": "Python 3",
   "language": "python",
   "name": "python3"
  },
  "language_info": {
   "codemirror_mode": {
    "name": "ipython",
    "version": 3
   },
   "file_extension": ".py",
   "mimetype": "text/x-python",
   "name": "python",
   "nbconvert_exporter": "python",
   "pygments_lexer": "ipython3",
   "version": "3.10.8"
  }
 },
 "nbformat": 4,
 "nbformat_minor": 2
}
